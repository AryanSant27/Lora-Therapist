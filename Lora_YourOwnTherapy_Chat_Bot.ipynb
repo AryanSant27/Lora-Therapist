{
  "nbformat": 4,
  "nbformat_minor": 0,
  "metadata": {
    "colab": {
      "provenance": [],
      "gpuType": "T4",
      "authorship_tag": "ABX9TyNxWgi9o6OTRFAuthrtnGLr",
      "include_colab_link": true
    },
    "kernelspec": {
      "name": "python3",
      "display_name": "Python 3"
    },
    "language_info": {
      "name": "python"
    },
    "accelerator": "GPU"
  },
  "cells": [
    {
      "cell_type": "markdown",
      "metadata": {
        "id": "view-in-github",
        "colab_type": "text"
      },
      "source": [
        "<a href=\"https://colab.research.google.com/github/AryanSant27/Lora-Therapist/blob/main/Lora_YourOwnTherapy_Chat_Bot.ipynb\" target=\"_parent\"><img src=\"https://colab.research.google.com/assets/colab-badge.svg\" alt=\"Open In Colab\"/></a>"
      ]
    },
    {
      "cell_type": "code",
      "execution_count": null,
      "metadata": {
        "id": "76NfRhS7Bvs7"
      },
      "outputs": [],
      "source": [
        "!pip install -q transformers peft accelerate bitsandbytes\n"
      ]
    },
    {
      "cell_type": "code",
      "source": [
        "from google.colab import files\n",
        "uploaded = files.upload()\n"
      ],
      "metadata": {
        "id": "GPHF-ETFCXR8"
      },
      "execution_count": null,
      "outputs": []
    },
    {
      "cell_type": "code",
      "source": [
        "!unzip saved_model.zip -d adapters\n"
      ],
      "metadata": {
        "id": "BLGyzNfEC9o9"
      },
      "execution_count": null,
      "outputs": []
    },
    {
      "cell_type": "code",
      "source": [
        "from transformers import AutoTokenizer, AutoModelForCausalLM\n",
        "from peft import PeftModel\n",
        "\n",
        "base_model_name = \"meta-llama/Llama-2-7b-hf\"  # replace if different\n",
        "\n",
        "tokenizer = AutoTokenizer.from_pretrained(base_model_name)\n",
        "\n",
        "from transformers import BitsAndBytesConfig\n",
        "\n",
        "bnb_config = BitsAndBytesConfig(\n",
        "    load_in_4bit=True,\n",
        "    bnb_4bit_use_double_quant=True,\n",
        "    bnb_4bit_quant_type=\"nf4\",\n",
        "    bnb_4bit_compute_dtype=\"float16\"\n",
        ")\n",
        "\n",
        "base_model = AutoModelForCausalLM.from_pretrained(\n",
        "    base_model_name,\n",
        "    quantization_config=bnb_config,\n",
        "    device_map=\"auto\"\n",
        ")\n",
        "\n",
        "model = PeftModel.from_pretrained(base_model, \"./adapters/saved_model\")\n"
      ],
      "metadata": {
        "id": "PRwkMMfnDAso"
      },
      "execution_count": null,
      "outputs": []
    },
    {
      "cell_type": "code",
      "source": [
        "system_prompt = (\n",
        "    \"Your name is Lora\"\n",
        "    \"You are a compassionate and professional therapist. \"\n",
        "    \"You listen actively, validate emotions, and offer supportive, non-judgmental guidance. \"\n",
        "    \"Respond in a calm, empathetic tone, focusing on helping the user reflect and grow emotionally. \"\n",
        "    \"Always keep your responses appropriate, kind, and rooted in psychological best practices.\"\n",
        ")\n",
        "\n",
        "import torch\n",
        "\n",
        "def generate_therapy_response(user_input: str):\n",
        "    prompt = f\"{system_prompt}\\nUser: {user_input}\\nTherapist:\"\n",
        "\n",
        "    inputs = tokenizer(prompt, return_tensors=\"pt\").to(\"cuda\")\n",
        "\n",
        "    with torch.no_grad():\n",
        "        outputs = model.generate(\n",
        "            **inputs,\n",
        "            max_new_tokens=200,\n",
        "            do_sample=True,\n",
        "            temperature=0.7,\n",
        "            top_p=0.9,\n",
        "            repetition_penalty=1.1,\n",
        "            pad_token_id=tokenizer.eos_token_id\n",
        "        )\n",
        "\n",
        "    response = tokenizer.decode(outputs[0], skip_special_tokens=True)\n",
        "\n",
        "    # Strip off the prompt from the generated text\n",
        "    response_only = response.split(\"Therapist:\")[-1].strip()\n",
        "\n",
        "    return response_only\n",
        "\n",
        "\n",
        "\n"
      ],
      "metadata": {
        "id": "BmmgxNfCFgRc"
      },
      "execution_count": null,
      "outputs": []
    },
    {
      "cell_type": "code",
      "source": [
        "response = generate_therapy_response(\"I feel demotivated because of unemployment\")\n",
        "print(response)"
      ],
      "metadata": {
        "id": "LeFEciF9LmDb"
      },
      "execution_count": null,
      "outputs": []
    },
    {
      "cell_type": "code",
      "source": [
        "# If you want to clear the internal cache from previous inference (rarely needed)\n",
        "torch.cuda.empty_cache()\n"
      ],
      "metadata": {
        "id": "Gxkw31ghKbm9"
      },
      "execution_count": null,
      "outputs": []
    }
  ]
}