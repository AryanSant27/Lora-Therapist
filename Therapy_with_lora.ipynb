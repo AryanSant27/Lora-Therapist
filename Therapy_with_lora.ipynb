{
  "nbformat": 4,
  "nbformat_minor": 0,
  "metadata": {
    "colab": {
      "provenance": [],
      "gpuType": "T4",
      "authorship_tag": "ABX9TyPn1maePd4muzs7NHzvcINz",
      "include_colab_link": true
    },
    "kernelspec": {
      "name": "python3",
      "display_name": "Python 3"
    },
    "language_info": {
      "name": "python"
    },
    "accelerator": "GPU"
  },
  "cells": [
    {
      "cell_type": "markdown",
      "metadata": {
        "id": "view-in-github",
        "colab_type": "text"
      },
      "source": [
        "<a href=\"https://colab.research.google.com/github/AryanSant27/Lora-Therapist/blob/main/Therapy_with_lora.ipynb\" target=\"_parent\"><img src=\"https://colab.research.google.com/assets/colab-badge.svg\" alt=\"Open In Colab\"/></a>"
      ]
    },
    {
      "cell_type": "code",
      "execution_count": null,
      "metadata": {
        "collapsed": true,
        "id": "GJKbodEoIvvF"
      },
      "outputs": [],
      "source": [
        "!pip install -U transformers datasets peft accelerate bitsandbytes\n"
      ]
    },
    {
      "cell_type": "code",
      "source": [
        "!pip install -U bitsandbytes"
      ],
      "metadata": {
        "id": "OjB76dDLeiEi"
      },
      "execution_count": null,
      "outputs": []
    },
    {
      "cell_type": "code",
      "source": [
        "from transformers import AutoTokenizer, AutoModelForCausalLM, BitsAndBytesConfig\n",
        "\n",
        "model_id = \"meta-llama/Llama-2-7b-hf\"\n",
        "\n",
        "model = AutoModelForCausalLM.from_pretrained(model_id, device_map=\"auto\")\n",
        "tokenizer = AutoTokenizer.from_pretrained(model_id)\n",
        "\n"
      ],
      "metadata": {
        "id": "IjHovHxoSAVu",
        "collapsed": true
      },
      "execution_count": null,
      "outputs": []
    },
    {
      "cell_type": "code",
      "source": [
        "from datasets import load_dataset\n",
        "\n",
        "data = load_dataset(\"kunalchamoli/mental_health_v1\")\n",
        "train_data = data[\"train\"]\n"
      ],
      "metadata": {
        "id": "4S-lX4SPTzla",
        "collapsed": true
      },
      "execution_count": null,
      "outputs": []
    },
    {
      "cell_type": "code",
      "source": [
        "def format_example(example):\n",
        "    instruction = example[\"instruction\"].strip()\n",
        "    output_text = example[\"output\"].strip()\n",
        "\n",
        "    # No need to add anything, instruction already has the required format\n",
        "    prompt = instruction\n",
        "\n",
        "    return {\n",
        "        \"text\": prompt + \"\\n\" + output_text  # for causal LM\n",
        "        # \"prompt\": prompt, \"label\": output_text  # for seq2seq models\n",
        "    }\n",
        "\n",
        "# Apply to dataset\n",
        "formatted_dataset = data.map(format_example)\n",
        "\n"
      ],
      "metadata": {
        "id": "M-P9mXQPUw55",
        "collapsed": true
      },
      "execution_count": null,
      "outputs": []
    },
    {
      "cell_type": "code",
      "source": [
        "from transformers import AutoTokenizer\n",
        "\n",
        "tokenizer.pad_token = tokenizer.eos_token\n",
        "tokenized_data = formatted_dataset.map(lambda samples: tokenizer(samples[\"text\"], truncation = True, padding = \"max_length\", max_length = 512), batched=True)\n"
      ],
      "metadata": {
        "id": "s0-2xyQXVdbl"
      },
      "execution_count": null,
      "outputs": []
    },
    {
      "cell_type": "code",
      "source": [
        "from peft import LoraConfig, prepare_model_for_kbit_training, get_peft_model, TaskType\n",
        "\n",
        "model = prepare_model_for_kbit_training(model)\n",
        "\n",
        "lora_config = LoraConfig(\n",
        "    r=8,\n",
        "    lora_alpha=16,\n",
        "    lora_dropout=0.05,\n",
        "    bias=\"none\",\n",
        "    task_type=TaskType.CAUSAL_LM,\n",
        "    target_modules=[\"q_proj\", \"k_proj\", \"v_proj\", \"o_proj\", \"gate_proj\", \"up_proj\", \"down_proj\"],\n",
        "    inference_mode=False\n",
        ")\n",
        "\n",
        "model = get_peft_model(model, lora_config)\n",
        "model.print_trainable_parameters()\n",
        "\n",
        "\n",
        "\n",
        "\n"
      ],
      "metadata": {
        "id": "q0m9F43QZe3B"
      },
      "execution_count": null,
      "outputs": []
    },
    {
      "cell_type": "code",
      "source": [
        "from transformers import TrainingArguments\n",
        "\n",
        "training_args = TrainingArguments(\n",
        "    output_dir=\"./checkpoints\",\n",
        "    save_strategy=\"no\",                     # <--- Don't save checkpoints at all during training\n",
        "    per_device_train_batch_size=2,\n",
        "    gradient_accumulation_steps=4,\n",
        "    max_steps=65,\n",
        "    learning_rate=2e-4,\n",
        "    logging_steps=10,\n",
        "    bf16=True,                               # or fp16=True if no bf16 support\n",
        "    optim=\"paged_adamw_8bit\",\n",
        "    report_to=\"none\",\n",
        "    gradient_checkpointing=False,            # <--- No gradient checkpointing (disable memory tricks that can be unstable)\n",
        "    save_total_limit=0,\n",
        "    label_names=[\"labels\"]# <--- No checkpoint limit needed (no saves)\n",
        ")\n",
        "\n"
      ],
      "metadata": {
        "id": "2zldvTKmaUg4"
      },
      "execution_count": null,
      "outputs": []
    },
    {
      "cell_type": "code",
      "source": [
        "from transformers import Trainer, DataCollatorForLanguageModeling\n",
        "\n",
        "data_collator = DataCollatorForLanguageModeling(tokenizer, mlm=False)\n",
        "\n",
        "trainer = Trainer(\n",
        "    model=model,\n",
        "    args=training_args,\n",
        "    train_dataset=tokenized_data[\"train\"],\n",
        "    data_collator=data_collator,\n",
        ")"
      ],
      "metadata": {
        "id": "1QoazWlKfzOg"
      },
      "execution_count": null,
      "outputs": []
    },
    {
      "cell_type": "code",
      "source": [
        "trainer.train()"
      ],
      "metadata": {
        "id": "dDziapN3iyJD"
      },
      "execution_count": null,
      "outputs": []
    },
    {
      "cell_type": "code",
      "source": [
        "!pip install safetensors\n"
      ],
      "metadata": {
        "id": "kvokGOyA_JLP"
      },
      "execution_count": null,
      "outputs": []
    },
    {
      "cell_type": "code",
      "source": [
        "model.save_pretrained(\"./saved_model\")\n",
        "tokenizer.save_pretrained(\"./saved_model\")\n"
      ],
      "metadata": {
        "id": "1riYQk0MAbiR"
      },
      "execution_count": null,
      "outputs": []
    },
    {
      "cell_type": "code",
      "source": [
        "from google.colab import files\n",
        "files.download(\"saved_model.zip\")\n"
      ],
      "metadata": {
        "id": "QGk1rJ0tAm5G"
      },
      "execution_count": null,
      "outputs": []
    }
  ]
}